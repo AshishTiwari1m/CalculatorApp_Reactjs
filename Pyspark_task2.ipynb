{
  "nbformat": 4,
  "nbformat_minor": 0,
  "metadata": {
    "colab": {
      "provenance": [],
      "include_colab_link": true
    },
    "kernelspec": {
      "name": "python3",
      "display_name": "Python 3"
    },
    "language_info": {
      "name": "python"
    }
  },
  "cells": [
    {
      "cell_type": "markdown",
      "metadata": {
        "id": "view-in-github",
        "colab_type": "text"
      },
      "source": [
        "<a href=\"https://colab.research.google.com/github/AshishTiwari1m/CalculatorApp_Reactjs/blob/main/Pyspark_task2.ipynb\" target=\"_parent\"><img src=\"https://colab.research.google.com/assets/colab-badge.svg\" alt=\"Open In Colab\"/></a>"
      ]
    },
    {
      "cell_type": "code",
      "source": [
        "!pip install pyspark\n"
      ],
      "metadata": {
        "colab": {
          "base_uri": "https://localhost:8080/"
        },
        "id": "oQY3bhv6wxrW",
        "outputId": "b0862560-db4e-400e-de5b-92a203dac892"
      },
      "execution_count": 2,
      "outputs": [
        {
          "output_type": "stream",
          "name": "stdout",
          "text": [
            "Requirement already satisfied: pyspark in /usr/local/lib/python3.12/dist-packages (3.5.1)\n",
            "Requirement already satisfied: py4j==0.10.9.7 in /usr/local/lib/python3.12/dist-packages (from pyspark) (0.10.9.7)\n"
          ]
        }
      ]
    },
    {
      "cell_type": "code",
      "source": [
        "# Import Spark Libraries\n",
        "from pyspark.sql import SparkSession\n",
        "from pyspark.sql.functions import col, count, avg, from_unixtime\n",
        "\n",
        "# Initialize Spark Session\n",
        "spark = SparkSession.builder.appName(\"MovieLensAnalysis\").getOrCreate()"
      ],
      "metadata": {
        "id": "TDWWzQ1XxCa8"
      },
      "execution_count": 4,
      "outputs": []
    },
    {
      "cell_type": "code",
      "source": [
        "# Load ratings data from Kaggle directory\n",
        "ratings_df = spark.read.csv(\"/kaggle/input/movielens-20m-dataset/rating.csv\", header=True, inferSchema=True)\n",
        "ratings_df.show(5)"
      ],
      "metadata": {
        "colab": {
          "base_uri": "https://localhost:8080/"
        },
        "id": "JNeyv1QJxZJH",
        "outputId": "9588c1da-5945-42e9-ef8b-29d223a40e68"
      },
      "execution_count": 7,
      "outputs": [
        {
          "output_type": "stream",
          "name": "stdout",
          "text": [
            "+------+-------+------+-------------------+\n",
            "|userId|movieId|rating|          timestamp|\n",
            "+------+-------+------+-------------------+\n",
            "|     1|      2|   3.5|2005-04-02 23:53:47|\n",
            "|     1|     29|   3.5|2005-04-02 23:31:16|\n",
            "|     1|     32|   3.5|2005-04-02 23:33:39|\n",
            "|     1|     47|   3.5|2005-04-02 23:32:07|\n",
            "|     1|     50|   3.5|2005-04-02 23:29:40|\n",
            "+------+-------+------+-------------------+\n",
            "only showing top 5 rows\n",
            "\n"
          ]
        }
      ]
    },
    {
      "cell_type": "code",
      "source": [
        "# Load the dataset as RDD\n",
        "ratings_rdd = ratings_df.rdd.map(lambda row: (row.movieId, (row.rating, 1)))\n",
        "\n",
        "# Aggregate ratings and counts\n",
        "movie_ratings = ratings_rdd.reduceByKey(lambda a, b: (a[0] + b[0], a[1] + b[1]))\n",
        "\n",
        "# Compute the average rating for each movie\n",
        "average_ratings = movie_ratings.mapValues(lambda v: v[0] / v[1])\n",
        "\n",
        "# Find the movie with the lowest average rating\n",
        "lowest_rated_movie = average_ratings.sortBy(lambda x: x[1]).first()\n",
        "print(\"Lowest Rated Movie:\", lowest_rated_movie)"
      ],
      "metadata": {
        "colab": {
          "base_uri": "https://localhost:8080/"
        },
        "id": "T7ll7NsbyAds",
        "outputId": "7a8b3088-2c68-4c87-8646-4ba724f63c2e"
      },
      "execution_count": 8,
      "outputs": [
        {
          "output_type": "stream",
          "name": "stdout",
          "text": [
            "Lowest Rated Movie: (129456, 0.5)\n"
          ]
        }
      ]
    },
    {
      "cell_type": "code",
      "source": [
        "import kagglehub\n",
        "\n",
        "# Download latest version\n",
        "path = kagglehub.dataset_download(\"grouplens/movielens-20m-dataset\")\n",
        "\n",
        "print(\"Path to dataset files:\", path)"
      ],
      "metadata": {
        "colab": {
          "base_uri": "https://localhost:8080/"
        },
        "id": "IDQI0FYTxhAZ",
        "outputId": "ebb10aa8-205e-49fe-b602-9d8632b641f7"
      },
      "execution_count": 6,
      "outputs": [
        {
          "output_type": "stream",
          "name": "stdout",
          "text": [
            "Using Colab cache for faster access to the 'movielens-20m-dataset' dataset.\n",
            "Path to dataset files: /kaggle/input/movielens-20m-dataset\n"
          ]
        }
      ]
    },
    {
      "cell_type": "code",
      "source": [
        "top_users = ratings_df.groupBy(\"userId\") \\\n",
        "    .agg(count(\"movieId\").alias(\"num_ratings\")) \\\n",
        "    .orderBy(col(\"num_ratings\").desc())\n",
        "\n",
        "top_users.show(5)"
      ],
      "metadata": {
        "id": "ItJaLgMSH1JT",
        "outputId": "ad2c7c35-404d-4c6f-bef3-e27ae07717b5",
        "colab": {
          "base_uri": "https://localhost:8080/"
        }
      },
      "execution_count": 10,
      "outputs": [
        {
          "output_type": "stream",
          "name": "stdout",
          "text": [
            "+------+-----------+\n",
            "|userId|num_ratings|\n",
            "+------+-----------+\n",
            "|118205|       9254|\n",
            "|  8405|       7515|\n",
            "| 82418|       5646|\n",
            "|121535|       5520|\n",
            "|125794|       5491|\n",
            "+------+-----------+\n",
            "only showing top 5 rows\n",
            "\n"
          ]
        }
      ]
    },
    {
      "cell_type": "code",
      "source": [
        "from pyspark.sql.functions import col, count, from_unixtime\n",
        "\n",
        "# Convert timestamp to BIGINT before using from_unixtime()\n",
        "ratings_df = ratings_df.withColumn(\"date\", from_unixtime(col(\"timestamp\").cast(\"bigint\")).cast(\"date\"))\n",
        "\n",
        "# Count ratings per date\n",
        "ratings_per_date = ratings_df.groupBy(\"date\").agg(count(\"rating\").alias(\"num_ratings\")).orderBy(\"date\")\n",
        "\n",
        "# Show rating trends\n",
        "ratings_per_date.show(10)"
      ],
      "metadata": {
        "id": "R1Tnyqk4IM0p",
        "outputId": "85d5ad4b-e5b0-42a5-f50a-8abc28fa9321",
        "colab": {
          "base_uri": "https://localhost:8080/"
        }
      },
      "execution_count": 11,
      "outputs": [
        {
          "output_type": "stream",
          "name": "stdout",
          "text": [
            "+----------+-----------+\n",
            "|      date|num_ratings|\n",
            "+----------+-----------+\n",
            "|1995-01-09|          4|\n",
            "|1996-01-29|         42|\n",
            "|1996-02-01|         59|\n",
            "|1996-02-02|         67|\n",
            "|1996-02-05|         32|\n",
            "|1996-02-06|          1|\n",
            "|1996-02-07|          1|\n",
            "|1996-02-08|          4|\n",
            "|1996-02-09|         10|\n",
            "|1996-02-10|          1|\n",
            "+----------+-----------+\n",
            "only showing top 10 rows\n",
            "\n"
          ]
        }
      ]
    },
    {
      "cell_type": "code",
      "source": [
        "# Load movies dataset\n",
        "movies_df = spark.read.csv(\"/kaggle/input/movielens-20m-dataset/movie.csv\", header=True, inferSchema=True)\n",
        "\n",
        "# Compute average ratings and count for each movie\n",
        "movie_avg_ratings = ratings_df.groupBy(\"movieId\") \\\n",
        "    .agg(count(\"rating\").alias(\"num_ratings\"), avg(\"rating\").alias(\"avg_rating\")) \\\n",
        "    .filter(\"num_ratings >= 100\")  # Set a minimum threshold for valid ratings\n",
        "\n",
        "# Join with movie titles\n",
        "best_movies = movie_avg_ratings.join(movies_df, \"movieId\").orderBy(col(\"avg_rating\").desc())\n",
        "\n",
        "# Show top-rated movies\n",
        "best_movies.show(10, truncate=False)"
      ],
      "metadata": {
        "id": "KYDCcDnF4Gsd",
        "outputId": "f1bb0d46-5aea-4c64-e058-cbd004d3a1e4",
        "colab": {
          "base_uri": "https://localhost:8080/",
          "height": 211
        }
      },
      "execution_count": 1,
      "outputs": [
        {
          "output_type": "error",
          "ename": "NameError",
          "evalue": "name 'spark' is not defined",
          "traceback": [
            "\u001b[0;31m---------------------------------------------------------------------------\u001b[0m",
            "\u001b[0;31mNameError\u001b[0m                                 Traceback (most recent call last)",
            "\u001b[0;32m/tmp/ipython-input-2472759625.py\u001b[0m in \u001b[0;36m<cell line: 0>\u001b[0;34m()\u001b[0m\n\u001b[1;32m      1\u001b[0m \u001b[0;31m# Load movies dataset\u001b[0m\u001b[0;34m\u001b[0m\u001b[0;34m\u001b[0m\u001b[0m\n\u001b[0;32m----> 2\u001b[0;31m \u001b[0mmovies_df\u001b[0m \u001b[0;34m=\u001b[0m \u001b[0mspark\u001b[0m\u001b[0;34m.\u001b[0m\u001b[0mread\u001b[0m\u001b[0;34m.\u001b[0m\u001b[0mcsv\u001b[0m\u001b[0;34m(\u001b[0m\u001b[0;34m\"/kaggle/input/movielens-20m-dataset/movie.csv\"\u001b[0m\u001b[0;34m,\u001b[0m \u001b[0mheader\u001b[0m\u001b[0;34m=\u001b[0m\u001b[0;32mTrue\u001b[0m\u001b[0;34m,\u001b[0m \u001b[0minferSchema\u001b[0m\u001b[0;34m=\u001b[0m\u001b[0;32mTrue\u001b[0m\u001b[0;34m)\u001b[0m\u001b[0;34m\u001b[0m\u001b[0;34m\u001b[0m\u001b[0m\n\u001b[0m\u001b[1;32m      3\u001b[0m \u001b[0;34m\u001b[0m\u001b[0m\n\u001b[1;32m      4\u001b[0m \u001b[0;31m# Compute average ratings and count for each movie\u001b[0m\u001b[0;34m\u001b[0m\u001b[0;34m\u001b[0m\u001b[0m\n\u001b[1;32m      5\u001b[0m \u001b[0mmovie_avg_ratings\u001b[0m \u001b[0;34m=\u001b[0m \u001b[0mratings_df\u001b[0m\u001b[0;34m.\u001b[0m\u001b[0mgroupBy\u001b[0m\u001b[0;34m(\u001b[0m\u001b[0;34m\"movieId\"\u001b[0m\u001b[0;34m)\u001b[0m\u001b[0;31m \u001b[0m\u001b[0;31m\\\u001b[0m\u001b[0;34m\u001b[0m\u001b[0;34m\u001b[0m\u001b[0m\n",
            "\u001b[0;31mNameError\u001b[0m: name 'spark' is not defined"
          ]
        }
      ]
    }
  ]
}